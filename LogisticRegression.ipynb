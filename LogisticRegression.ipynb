{
 "cells": [
  {
   "cell_type": "code",
   "execution_count": 1,
   "metadata": {
    "ExecuteTime": {
     "end_time": "2020-12-20T16:56:08.088145Z",
     "start_time": "2020-12-20T16:56:06.658898Z"
    }
   },
   "outputs": [],
   "source": [
    "import numpy as np\n",
    "import pandas as pd\n",
    "import matplotlib.pyplot as plt\n",
    "\n",
    "from data_augmentation import AugmentData"
   ]
  },
  {
   "cell_type": "markdown",
   "metadata": {},
   "source": [
    "# Logistic Regression"
   ]
  },
  {
   "cell_type": "markdown",
   "metadata": {},
   "source": [
    "## Parameter Tuning on Original Dataset"
   ]
  },
  {
   "cell_type": "code",
   "execution_count": 2,
   "metadata": {
    "ExecuteTime": {
     "end_time": "2020-12-20T16:57:00.589366Z",
     "start_time": "2020-12-20T16:56:59.875501Z"
    }
   },
   "outputs": [],
   "source": [
    "from sklearn.model_selection import train_test_split\n",
    "\n",
    "# load data\n",
    "train = np.load('data/train.npz')\n",
    "X, y = train['arr_0'], train['arr_1']\n",
    "classes = ['ant', 'spider', 'flower', 'dolphin', 'lobster', 'bulldozer']\n",
    "\n",
    "X_train, X_test, y_train, y_test = train_test_split(\n",
    "    train['arr_0'], train['arr_1'], test_size=0.33, random_state=42)"
   ]
  },
  {
   "cell_type": "code",
   "execution_count": 3,
   "metadata": {
    "ExecuteTime": {
     "start_time": "2020-12-20T16:57:12.265Z"
    },
    "scrolled": false
   },
   "outputs": [
    {
     "name": "stdout",
     "output_type": "stream",
     "text": [
      "Fitting 5 folds for each of 9 candidates, totalling 45 fits\n"
     ]
    },
    {
     "name": "stderr",
     "output_type": "stream",
     "text": [
      "/apps/conda/pyanni/envs/kaggle_env/lib/python3.8/site-packages/sklearn/model_selection/_search.py:278: UserWarning: The total space of parameters 9 is smaller than n_iter=100. Running 9 iterations. For exhaustive searches, use GridSearchCV.\n",
      "  warnings.warn(\n",
      "[Parallel(n_jobs=60)]: Using backend LokyBackend with 60 concurrent workers.\n",
      "[Parallel(n_jobs=60)]: Done  18 out of  45 | elapsed:  2.2min remaining:  3.3min\n",
      "[Parallel(n_jobs=60)]: Done  41 out of  45 | elapsed:  2.4min remaining:   14.2s\n",
      "[Parallel(n_jobs=60)]: Done  45 out of  45 | elapsed:  2.7min finished\n"
     ]
    },
    {
     "name": "stdout",
     "output_type": "stream",
     "text": [
      "accuracy: 0.531 \n",
      "best parameters: {'polynomials__degree': 2, 'pca__n_components': 650, 'logistic__penalty': 'l2', 'logistic__C': 0.005}\n"
     ]
    },
    {
     "name": "stderr",
     "output_type": "stream",
     "text": [
      "/apps/conda/pyanni/envs/kaggle_env/lib/python3.8/site-packages/sklearn/linear_model/_logistic.py:762: ConvergenceWarning: lbfgs failed to converge (status=1):\n",
      "STOP: TOTAL NO. of ITERATIONS REACHED LIMIT.\n",
      "\n",
      "Increase the number of iterations (max_iter) or scale the data as shown in:\n",
      "    https://scikit-learn.org/stable/modules/preprocessing.html\n",
      "Please also refer to the documentation for alternative solver options:\n",
      "    https://scikit-learn.org/stable/modules/linear_model.html#logistic-regression\n",
      "  n_iter_i = _check_optimize_result(\n"
     ]
    }
   ],
   "source": [
    "from sklearn.pipeline import Pipeline\n",
    "from sklearn.preprocessing import FunctionTransformer\n",
    "from sklearn.preprocessing import PolynomialFeatures\n",
    "from sklearn.decomposition import PCA\n",
    "from sklearn.linear_model import LogisticRegression\n",
    "from sklearn.model_selection import RandomizedSearchCV\n",
    "\n",
    "pipe = Pipeline([('transformer', FunctionTransformer(lambda x: x / 255)),\n",
    "                 ('polynomials', PolynomialFeatures(include_bias=False)),\n",
    "                 ('pca', PCA()),\n",
    "                 ('logistic', LogisticRegression())])\n",
    "\n",
    "parameters = {'polynomials__degree': [2],\n",
    "              'pca__n_components': [600, 650, 700],\n",
    "              'logistic__penalty': ['l2'],\n",
    "              'logistic__C': [0.001, 0.005, 0.01]}\n",
    "\n",
    "clf = RandomizedSearchCV(pipe, parameters, n_iter=100, n_jobs=60, verbose=2,\n",
    "                         random_state=12)\n",
    "\n",
    "clf.fit(X_train, y_train)\n",
    "\n",
    "print(f'accuracy: {clf.best_score_:.3f}',\n",
    "      f'\\nbest parameters: { clf.best_params_}')"
   ]
  },
  {
   "cell_type": "markdown",
   "metadata": {},
   "source": [
    "## Fit on Augmented Dataset\n",
    "Rotations do not seem to increase accuracy (they actually decrease it)."
   ]
  },
  {
   "cell_type": "code",
   "execution_count": 4,
   "metadata": {},
   "outputs": [
    {
     "data": {
      "text/plain": [
       "Pipeline(steps=[('transformer',\n",
       "                 FunctionTransformer(func=<function <lambda> at 0x7f3f9c2b29d0>)),\n",
       "                ('polynomials', PolynomialFeatures(include_bias=False)),\n",
       "                ('pca', PCA(n_components=650)),\n",
       "                ('logistic', LogisticRegression(C=0.005, n_jobs=100))])"
      ]
     },
     "execution_count": 4,
     "metadata": {},
     "output_type": "execute_result"
    }
   ],
   "source": [
    "aug_data = AugmentData(X_train, y_train, classes)\n",
    "aug_data.add_shifted_images([1, 2, 3])\n",
    "aug_data.add_flipped_images()\n",
    "X_train_aug, y_train_aug = aug_data.return_data()\n",
    "\n",
    "fitted_pipe = Pipeline([('transformer', FunctionTransformer(lambda x: x / 255)),\n",
    "                        ('polynomials', PolynomialFeatures(degree=2, include_bias=False)),\n",
    "                        ('pca', PCA(n_components=650)),\n",
    "                        ('logistic', LogisticRegression(C=0.005, n_jobs=100))])\n",
    "\n",
    "fitted_pipe.fit(X_train_aug, y_train_aug)"
   ]
  },
  {
   "cell_type": "code",
   "execution_count": 6,
   "metadata": {
    "ExecuteTime": {
     "start_time": "2020-12-20T17:00:35.738Z"
    }
   },
   "outputs": [
    {
     "name": "stdout",
     "output_type": "stream",
     "text": [
      "accuracy: 0.636\n"
     ]
    },
    {
     "data": {
      "text/html": [
       "<div>\n",
       "<style scoped>\n",
       "    .dataframe tbody tr th:only-of-type {\n",
       "        vertical-align: middle;\n",
       "    }\n",
       "\n",
       "    .dataframe tbody tr th {\n",
       "        vertical-align: top;\n",
       "    }\n",
       "\n",
       "    .dataframe thead th {\n",
       "        text-align: right;\n",
       "    }\n",
       "</style>\n",
       "<table border=\"1\" class=\"dataframe\">\n",
       "  <thead>\n",
       "    <tr style=\"text-align: right;\">\n",
       "      <th></th>\n",
       "      <th>ant</th>\n",
       "      <th>spider</th>\n",
       "      <th>flower</th>\n",
       "      <th>dolphin</th>\n",
       "      <th>lobster</th>\n",
       "      <th>bulldozer</th>\n",
       "    </tr>\n",
       "  </thead>\n",
       "  <tbody>\n",
       "    <tr>\n",
       "      <th>ant</th>\n",
       "      <td>0.526</td>\n",
       "      <td>0.171</td>\n",
       "      <td>0.053</td>\n",
       "      <td>0.066</td>\n",
       "      <td>0.158</td>\n",
       "      <td>0.026</td>\n",
       "    </tr>\n",
       "    <tr>\n",
       "      <th>spider</th>\n",
       "      <td>0.115</td>\n",
       "      <td>0.615</td>\n",
       "      <td>0.031</td>\n",
       "      <td>0.073</td>\n",
       "      <td>0.062</td>\n",
       "      <td>0.104</td>\n",
       "    </tr>\n",
       "    <tr>\n",
       "      <th>flower</th>\n",
       "      <td>0.014</td>\n",
       "      <td>0.014</td>\n",
       "      <td>0.889</td>\n",
       "      <td>0.000</td>\n",
       "      <td>0.042</td>\n",
       "      <td>0.042</td>\n",
       "    </tr>\n",
       "    <tr>\n",
       "      <th>dolphin</th>\n",
       "      <td>0.045</td>\n",
       "      <td>0.102</td>\n",
       "      <td>0.023</td>\n",
       "      <td>0.670</td>\n",
       "      <td>0.023</td>\n",
       "      <td>0.136</td>\n",
       "    </tr>\n",
       "    <tr>\n",
       "      <th>lobster</th>\n",
       "      <td>0.150</td>\n",
       "      <td>0.188</td>\n",
       "      <td>0.075</td>\n",
       "      <td>0.075</td>\n",
       "      <td>0.425</td>\n",
       "      <td>0.088</td>\n",
       "    </tr>\n",
       "    <tr>\n",
       "      <th>bulldozer</th>\n",
       "      <td>0.060</td>\n",
       "      <td>0.036</td>\n",
       "      <td>0.024</td>\n",
       "      <td>0.060</td>\n",
       "      <td>0.108</td>\n",
       "      <td>0.711</td>\n",
       "    </tr>\n",
       "  </tbody>\n",
       "</table>\n",
       "</div>"
      ],
      "text/plain": [
       "             ant  spider  flower  dolphin  lobster  bulldozer\n",
       "ant        0.526   0.171   0.053    0.066    0.158      0.026\n",
       "spider     0.115   0.615   0.031    0.073    0.062      0.104\n",
       "flower     0.014   0.014   0.889    0.000    0.042      0.042\n",
       "dolphin    0.045   0.102   0.023    0.670    0.023      0.136\n",
       "lobster    0.150   0.188   0.075    0.075    0.425      0.088\n",
       "bulldozer  0.060   0.036   0.024    0.060    0.108      0.711"
      ]
     },
     "metadata": {},
     "output_type": "display_data"
    }
   ],
   "source": [
    "from sklearn.metrics import accuracy_score\n",
    "from sklearn.metrics import confusion_matrix\n",
    "\n",
    "def show_confusion_matrix(y_test, y_pred, classes):\n",
    "    df_report = pd.DataFrame(confusion_matrix(y_test, y_pred, normalize='true'), columns=classes).round(3)\n",
    "    df_report.index = classes\n",
    "    display(df_report)\n",
    "\n",
    "y_pred = fitted_pipe.predict(X_test)\n",
    "print(f'accuracy: {accuracy_score(y_test, y_pred):.3f}')\n",
    "          \n",
    "show_confusion_matrix(y_test, y_pred, classes)"
   ]
  },
  {
   "cell_type": "markdown",
   "metadata": {},
   "source": [
    "## Final Estimation"
   ]
  },
  {
   "cell_type": "code",
   "execution_count": null,
   "metadata": {},
   "outputs": [],
   "source": [
    "# load data\n",
    "train = np.load('data/train.npz')\n",
    "X, y = train['arr_0'], train['arr_1']\n",
    "\n",
    "aug_data = AugmentData(X, y, classes)\n",
    "aug_data.add_shifted_images([1, 2, 3])\n",
    "aug_data.add_flipped_images()\n",
    "X_aug, y_aug = aug_data.return_data()\n",
    "\n",
    "fitted_pipe.fit(X, y)"
   ]
  },
  {
   "cell_type": "markdown",
   "metadata": {},
   "source": [
    "## Submission\n",
    "no submission was made to kaggle"
   ]
  },
  {
   "cell_type": "code",
   "execution_count": null,
   "metadata": {},
   "outputs": [],
   "source": [
    "# load data\n",
    "test = np.load('data/test.npz')\n",
    "X_test = test['arr_0']\n",
    "y_pred_test = fitted_pipe.predict(X_test)\n",
    "submission = pd.DataFrame({'Id': range(len(y_pred_test)), 'Category': y_pred_test})\n",
    "submission.to_csv('submissions/logistic.csv', index=False)"
   ]
  }
 ],
 "metadata": {
  "kernelspec": {
   "display_name": "kaggle_env",
   "language": "python",
   "name": "kaggle_env"
  },
  "language_info": {
   "codemirror_mode": {
    "name": "ipython",
    "version": 3
   },
   "file_extension": ".py",
   "mimetype": "text/x-python",
   "name": "python",
   "nbconvert_exporter": "python",
   "pygments_lexer": "ipython3",
   "version": "3.8.5"
  },
  "toc": {
   "base_numbering": 1,
   "nav_menu": {},
   "number_sections": true,
   "sideBar": true,
   "skip_h1_title": false,
   "title_cell": "Table of Contents",
   "title_sidebar": "Contents",
   "toc_cell": false,
   "toc_position": {},
   "toc_section_display": true,
   "toc_window_display": false
  }
 },
 "nbformat": 4,
 "nbformat_minor": 4
}

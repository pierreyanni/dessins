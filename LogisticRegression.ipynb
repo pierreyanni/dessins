{
 "cells": [
  {
   "cell_type": "code",
   "execution_count": 16,
   "metadata": {},
   "outputs": [],
   "source": [
    "import numpy as np\n",
    "import pandas as pd\n",
    "import matplotlib.pyplot as plt"
   ]
  },
  {
   "cell_type": "markdown",
   "metadata": {},
   "source": [
    "# Data Augmentation"
   ]
  },
  {
   "cell_type": "code",
   "execution_count": 17,
   "metadata": {},
   "outputs": [],
   "source": [
    "from scipy.ndimage.interpolation import shift\n",
    "from skimage.transform import rotate\n",
    "\n",
    "class AugmentData:\n",
    "    def __init__(self, X, y, classes):\n",
    "        self.X = X\n",
    "        self.y = y\n",
    "        self.classes = classes\n",
    "        self.side = 28\n",
    "    \n",
    "    def plot_image(self, image):       \n",
    "        print(classes[self.y[image]])\n",
    "        plt.imshow(self.X[image].reshape(self.side, self.side), cmap='gray_r',\n",
    "               interpolation='nearest')\n",
    "        plt.show()\n",
    "    \n",
    "    def shift_image(self, image, dx, dy):\n",
    "        image = image.reshape((self.side, self.side))\n",
    "        shifted_image = shift(image, [dy, dx], cval=0, mode=\"constant\")\n",
    "        return shifted_image.reshape([-1])\n",
    "    \n",
    "    def add_shifted_images(self, deltas=[1]):\n",
    "        l_X = self.X.tolist()\n",
    "        l_y = self.y.tolist()\n",
    "        for delta in deltas:\n",
    "            for dx, dy in ((delta, 0), (-delta, 0), (0, delta), (0, -delta)):\n",
    "                for image in self.X:\n",
    "                    l_X.append(self.shift_image(image, dx, dy))\n",
    "                l_y += self.y.tolist()\n",
    "        \n",
    "        self.X = np.array(l_X)\n",
    "        self.y = np.array(l_y)\n",
    "        \n",
    "    def add_flipped_images(self):\n",
    "        flipped = [np.fliplr(image.reshape(self.side, self.side)).flatten()\n",
    "                   for image in self.X]\n",
    "        self.X = np.array(flipped + self.X.tolist())\n",
    "        self.y = np.tile(self.y, 2)\n",
    "        \n",
    "    def add_rotated_images(self, angles=[-10, 10]):\n",
    "        l_X = self.X.tolist()\n",
    "        l_y = self.y.tolist()\n",
    "        for angle in angles:\n",
    "            rotated = [rotate(image.reshape(self.side, self.side), angle).flatten() \n",
    "                       for image in self.X]\n",
    "            l_X += rotated\n",
    "            l_y += self.y.tolist()\n",
    "        self.X = np.array(l_X)\n",
    "        self.y = np.array(l_y)\n",
    "        \n",
    "    def return_data(self):\n",
    "        return self.X, self.y"
   ]
  },
  {
   "cell_type": "markdown",
   "metadata": {},
   "source": [
    "# Parameter Tuning on Original Dataset"
   ]
  },
  {
   "cell_type": "code",
   "execution_count": 18,
   "metadata": {},
   "outputs": [],
   "source": [
    "from sklearn.model_selection import train_test_split\n",
    "\n",
    "# load data\n",
    "train = np.load('data/train.npz')\n",
    "X, y = train['arr_0'], train['arr_1']\n",
    "classes = ['ant', 'spider', 'flower', 'dolphin', 'lobster', 'bulldozer']\n",
    "\n",
    "X_train, X_test, y_train, y_test = train_test_split(\n",
    "    train['arr_0'], train['arr_1'], test_size=0.33, random_state=42)"
   ]
  },
  {
   "cell_type": "code",
   "execution_count": 4,
   "metadata": {
    "scrolled": false
   },
   "outputs": [],
   "source": [
    "from sklearn.pipeline import Pipeline\n",
    "from sklearn.preprocessing import FunctionTransformer\n",
    "from sklearn.preprocessing import PolynomialFeatures\n",
    "from sklearn.decomposition import PCA\n",
    "from sklearn.linear_model import LogisticRegression\n",
    "from sklearn.model_selection import RandomizedSearchCV\n",
    "\n",
    "pipe = Pipeline([('transformer', FunctionTransformer(lambda x: x / 255)),\n",
    "                 ('polynomials', PolynomialFeatures(include_bias=False)),\n",
    "                 ('pca', PCA()),\n",
    "                 ('logistic', LogisticRegression())])\n",
    "\n",
    "parameters = {'polynomials__degree': [2],\n",
    "              'pca__n_components': [600, 650, 700],\n",
    "              'logistic__penalty': ['l2'],\n",
    "              'logistic__C': [0.001, 0.005, 0.01]}\n",
    "\n",
    "clf = RandomizedSearchCV(pipe, parameters, n_iter=100, n_jobs=60, verbose=2)\n",
    "\n",
    "clf.fit(X_train, y_train)"
   ]
  },
  {
   "cell_type": "code",
   "execution_count": 28,
   "metadata": {},
   "outputs": [
    {
     "name": "stdout",
     "output_type": "stream",
     "text": [
      "accuracy: 0.531 \n",
      "best parameters: {'polynomials__degree': 2, 'pca__n_components': 650, 'logistic__penalty': 'l2', 'logistic__C': 0.005}\n"
     ]
    }
   ],
   "source": [
    "print(f'accuracy: {clf.best_score_:.3f}',\n",
    "      f'\\nbest parameters: { clf.best_params_}')"
   ]
  },
  {
   "cell_type": "markdown",
   "metadata": {},
   "source": [
    "# Fit on Augmented Dataset\n",
    "Rotations do not seem to increase accuracy (they actually decrease it)."
   ]
  },
  {
   "cell_type": "code",
   "execution_count": 40,
   "metadata": {},
   "outputs": [
    {
     "data": {
      "text/plain": [
       "Pipeline(steps=[('transformer',\n",
       "                 FunctionTransformer(func=<function <lambda> at 0x7f5c1541d0d0>)),\n",
       "                ('polynomials', PolynomialFeatures(include_bias=False)),\n",
       "                ('pca', PCA(n_components=650)),\n",
       "                ('logistic', LogisticRegression(C=0.005, n_jobs=100))])"
      ]
     },
     "execution_count": 40,
     "metadata": {},
     "output_type": "execute_result"
    }
   ],
   "source": [
    "aug_data = AugmentData(X_train, y_train, classes)\n",
    "aug_data.add_shifted_images([1, 2, 3])\n",
    "aug_data.add_flipped_images()\n",
    "X_train_aug, y_train_aug = aug_data.return_data()\n",
    "\n",
    "fitted_pipe = Pipeline([('transformer', FunctionTransformer(lambda x: x / 255)),\n",
    "                        ('polynomials', PolynomialFeatures(degree=2, include_bias=False)),\n",
    "                        ('pca', PCA(n_components=650)),\n",
    "                        ('logistic', LogisticRegression(C=0.005, n_jobs=100))])\n",
    "\n",
    "fitted_pipe.fit(X_train_aug, y_train_aug)"
   ]
  },
  {
   "cell_type": "code",
   "execution_count": 41,
   "metadata": {},
   "outputs": [
    {
     "data": {
      "text/plain": [
       "0.6323232323232323"
      ]
     },
     "execution_count": 41,
     "metadata": {},
     "output_type": "execute_result"
    }
   ],
   "source": [
    "from sklearn.metrics import accuracy_score\n",
    "y_pred = fitted_pipe.predict(X_test)\n",
    "accuracy_score(y_test, y_pred)"
   ]
  },
  {
   "cell_type": "code",
   "execution_count": 43,
   "metadata": {},
   "outputs": [
    {
     "name": "stdout",
     "output_type": "stream",
     "text": [
      "             ant  spider  flower  dolphin  lobster  bulldozer\n",
      "ant        0.539   0.171   0.053    0.066    0.145      0.026\n",
      "spider     0.125   0.573   0.031    0.094    0.083      0.094\n",
      "flower     0.028   0.028   0.861    0.000    0.056      0.028\n",
      "dolphin    0.045   0.091   0.011    0.682    0.034      0.136\n",
      "lobster    0.200   0.212   0.062    0.038    0.388      0.100\n",
      "bulldozer  0.036   0.048   0.012    0.048    0.084      0.771\n"
     ]
    }
   ],
   "source": [
    "def show_confusion_matrix(y_test, y_pred, classes):\n",
    "    df_report = pd.DataFrame(confusion_matrix(y_test, y_pred, normalize='true'), columns=classes).round(3)\n",
    "    df_report.index = classes\n",
    "    print(df_report)\n",
    "\n",
    "show_confusion_matrix(y_test, y_pred, classes)"
   ]
  },
  {
   "cell_type": "markdown",
   "metadata": {},
   "source": [
    "# Final Estimation"
   ]
  },
  {
   "cell_type": "code",
   "execution_count": 44,
   "metadata": {},
   "outputs": [
    {
     "data": {
      "text/plain": [
       "Pipeline(steps=[('transformer',\n",
       "                 FunctionTransformer(func=<function <lambda> at 0x7f5c1541d0d0>)),\n",
       "                ('polynomials', PolynomialFeatures(include_bias=False)),\n",
       "                ('pca', PCA(n_components=650)),\n",
       "                ('logistic', LogisticRegression(C=0.005, n_jobs=100))])"
      ]
     },
     "execution_count": 44,
     "metadata": {},
     "output_type": "execute_result"
    }
   ],
   "source": [
    "# load data\n",
    "train = np.load('data/train.npz')\n",
    "X, y = train['arr_0'], train['arr_1']\n",
    "classes = ['ant', 'spider', 'flower', 'dolphin', 'lobster', 'bulldozer']\n",
    "\n",
    "aug_data = AugmentData(X, y, classes)\n",
    "aug_data.add_shifted_images([1, 2, 3])\n",
    "aug_data.add_flipped_images()\n",
    "X_aug, y_aug = aug_data.return_data()\n",
    "\n",
    "fitted_pipe.fit(X, y)"
   ]
  },
  {
   "cell_type": "markdown",
   "metadata": {},
   "source": [
    "# Submission\n",
    "no submission was made to kaggle"
   ]
  },
  {
   "cell_type": "code",
   "execution_count": 45,
   "metadata": {},
   "outputs": [
    {
     "data": {
      "text/html": [
       "<div>\n",
       "<style scoped>\n",
       "    .dataframe tbody tr th:only-of-type {\n",
       "        vertical-align: middle;\n",
       "    }\n",
       "\n",
       "    .dataframe tbody tr th {\n",
       "        vertical-align: top;\n",
       "    }\n",
       "\n",
       "    .dataframe thead th {\n",
       "        text-align: right;\n",
       "    }\n",
       "</style>\n",
       "<table border=\"1\" class=\"dataframe\">\n",
       "  <thead>\n",
       "    <tr style=\"text-align: right;\">\n",
       "      <th></th>\n",
       "      <th>Id</th>\n",
       "      <th>Category</th>\n",
       "    </tr>\n",
       "  </thead>\n",
       "  <tbody>\n",
       "    <tr>\n",
       "      <th>0</th>\n",
       "      <td>0</td>\n",
       "      <td>2</td>\n",
       "    </tr>\n",
       "    <tr>\n",
       "      <th>1</th>\n",
       "      <td>1</td>\n",
       "      <td>2</td>\n",
       "    </tr>\n",
       "    <tr>\n",
       "      <th>2</th>\n",
       "      <td>2</td>\n",
       "      <td>1</td>\n",
       "    </tr>\n",
       "    <tr>\n",
       "      <th>3</th>\n",
       "      <td>3</td>\n",
       "      <td>0</td>\n",
       "    </tr>\n",
       "    <tr>\n",
       "      <th>4</th>\n",
       "      <td>4</td>\n",
       "      <td>4</td>\n",
       "    </tr>\n",
       "  </tbody>\n",
       "</table>\n",
       "</div>"
      ],
      "text/plain": [
       "   Id  Category\n",
       "0   0         2\n",
       "1   1         2\n",
       "2   2         1\n",
       "3   3         0\n",
       "4   4         4"
      ]
     },
     "execution_count": 45,
     "metadata": {},
     "output_type": "execute_result"
    }
   ],
   "source": [
    "# load data\n",
    "test = np.load('data/test.npz')\n",
    "X_test = test['arr_0']\n",
    "y_pred_test = fitted_pipe.predict(X_test)\n",
    "submission = pd.DataFrame({'Id': range(len(y_pred_test)), 'Category': y_pred_test})\n",
    "submission.head()"
   ]
  },
  {
   "cell_type": "code",
   "execution_count": 46,
   "metadata": {},
   "outputs": [],
   "source": [
    "submission.to_csv('submissions/logistic.csv', index=False)"
   ]
  }
 ],
 "metadata": {
  "kernelspec": {
   "display_name": "kaggle_env",
   "language": "python",
   "name": "kaggle_env"
  },
  "language_info": {
   "codemirror_mode": {
    "name": "ipython",
    "version": 3
   },
   "file_extension": ".py",
   "mimetype": "text/x-python",
   "name": "python",
   "nbconvert_exporter": "python",
   "pygments_lexer": "ipython3",
   "version": "3.8.5"
  }
 },
 "nbformat": 4,
 "nbformat_minor": 4
}

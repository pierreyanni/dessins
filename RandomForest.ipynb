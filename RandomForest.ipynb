{
 "cells": [
  {
   "cell_type": "code",
   "execution_count": 1,
   "metadata": {},
   "outputs": [],
   "source": [
    "import numpy as np\n",
    "import pandas as pd\n",
    "import matplotlib.pyplot as plt"
   ]
  },
  {
   "cell_type": "markdown",
   "metadata": {},
   "source": [
    "# Data Augmentation"
   ]
  },
  {
   "cell_type": "code",
   "execution_count": 2,
   "metadata": {},
   "outputs": [],
   "source": [
    "from scipy.ndimage.interpolation import shift\n",
    "from skimage.transform import rotate\n",
    "\n",
    "class AugmentData:\n",
    "    def __init__(self, X, y, classes):\n",
    "        self.X = X\n",
    "        self.y = y\n",
    "        self.classes = classes\n",
    "        self.side = 28\n",
    "    \n",
    "    def plot_image(self, image):       \n",
    "        print(classes[self.y[image]])\n",
    "        plt.imshow(self.X[image].reshape(self.side, self.side), cmap='gray_r',\n",
    "               interpolation='nearest')\n",
    "        plt.show()\n",
    "    \n",
    "    def shift_image(self, image, dx, dy):\n",
    "        image = image.reshape((self.side, self.side))\n",
    "        shifted_image = shift(image, [dy, dx], cval=0, mode=\"constant\")\n",
    "        return shifted_image.reshape([-1])\n",
    "    \n",
    "    def add_shifted_images(self, deltas=[1]):\n",
    "        l_X = self.X.tolist()\n",
    "        l_y = self.y.tolist()\n",
    "        for delta in deltas:\n",
    "            for dx, dy in ((delta, 0), (-delta, 0), (0, delta), (0, -delta)):\n",
    "                for image in self.X:\n",
    "                    l_X.append(self.shift_image(image, dx, dy))\n",
    "                l_y += self.y.tolist()\n",
    "        \n",
    "        self.X = np.array(l_X)\n",
    "        self.y = np.array(l_y)\n",
    "        \n",
    "    def add_flipped_images(self):\n",
    "        flipped = [np.fliplr(image.reshape(self.side, self.side)).flatten()\n",
    "                   for image in self.X]\n",
    "        self.X = np.array(flipped + self.X.tolist())\n",
    "        self.y = np.tile(self.y, 2)\n",
    "        \n",
    "    def add_rotated_images(self, angles=[-10, 10]):\n",
    "        l_X = self.X.tolist()\n",
    "        l_y = self.y.tolist()\n",
    "        for angle in angles:\n",
    "            rotated = [rotate(image.reshape(self.side, self.side), angle).flatten() \n",
    "                       for image in self.X]\n",
    "            l_X += rotated\n",
    "            l_y += self.y.tolist()\n",
    "        \n",
    "        self.X = np.array(l_X)\n",
    "        self.y = np.array(l_y)\n",
    "        \n",
    "    def return_data(self):\n",
    "        return self.X, self.y"
   ]
  },
  {
   "cell_type": "markdown",
   "metadata": {},
   "source": [
    "# Parameter Tuning on Original Dataset"
   ]
  },
  {
   "cell_type": "code",
   "execution_count": 3,
   "metadata": {},
   "outputs": [],
   "source": [
    "from sklearn.model_selection import train_test_split\n",
    "\n",
    "# load data\n",
    "train = np.load('data/train.npz')\n",
    "X, y = train['arr_0'], train['arr_1']\n",
    "classes = ['ant', 'spider', 'flower', 'dolphin', 'lobster', 'bulldozer']\n",
    "\n",
    "X_train, X_test, y_train, y_test = train_test_split(\n",
    "    train['arr_0'], train['arr_1'], test_size=0.40, random_state=42)"
   ]
  },
  {
   "cell_type": "code",
   "execution_count": 4,
   "metadata": {
    "scrolled": true
   },
   "outputs": [
    {
     "name": "stdout",
     "output_type": "stream",
     "text": [
      "Fitting 5 folds for each of 500 candidates, totalling 2500 fits\n"
     ]
    },
    {
     "name": "stderr",
     "output_type": "stream",
     "text": [
      "[Parallel(n_jobs=100)]: Using backend LokyBackend with 100 concurrent workers.\n",
      "[Parallel(n_jobs=100)]: Done 165 tasks      | elapsed:   12.3s\n",
      "[Parallel(n_jobs=100)]: Done 448 tasks      | elapsed:   26.5s\n",
      "[Parallel(n_jobs=100)]: Done 813 tasks      | elapsed:   41.6s\n",
      "[Parallel(n_jobs=100)]: Done 1258 tasks      | elapsed:  1.1min\n",
      "[Parallel(n_jobs=100)]: Done 1785 tasks      | elapsed:  1.5min\n",
      "[Parallel(n_jobs=100)]: Done 2500 out of 2500 | elapsed:  2.1min finished\n"
     ]
    },
    {
     "name": "stdout",
     "output_type": "stream",
     "text": [
      "accuracy: 0.504 \n",
      "best parameters: {'n_estimators': 1672, 'min_samples_split': 2, 'min_samples_leaf': 3, 'max_features': 'sqrt', 'max_depth': 91, 'bootstrap': False}\n"
     ]
    }
   ],
   "source": [
    "from sklearn.ensemble import RandomForestClassifier\n",
    "from sklearn.model_selection import RandomizedSearchCV\n",
    "\n",
    "rf = RandomForestClassifier()\n",
    "\n",
    "n_estimators = [int(x) for x in np.linspace(start = 200, stop = 2000, num = 100)]\n",
    "max_features = ['auto', 'sqrt']\n",
    "max_depth = [int(x) for x in np.linspace(2, 120, num = 30)]\n",
    "max_depth.append(None)\n",
    "min_samples_split = range(2, 20)\n",
    "min_samples_leaf = range(2, 20)\n",
    "bootstrap = [True, False]\n",
    "random_grid = {'n_estimators': n_estimators,\n",
    "               'max_features': max_features,\n",
    "               'max_depth': max_depth,\n",
    "               'min_samples_split': min_samples_split,\n",
    "               'min_samples_leaf': min_samples_leaf,\n",
    "               'bootstrap': bootstrap}\n",
    "\n",
    "clf = RandomizedSearchCV(rf, random_grid, n_iter=500, verbose=2, random_state=0, \n",
    "                         n_jobs=100)\n",
    "clf.fit(X_train, y_train)\n",
    "\n",
    "print(f'accuracy: {clf.best_score_:.3f}',\n",
    "      f'\\nbest parameters: { clf.best_params_}')"
   ]
  },
  {
   "cell_type": "markdown",
   "metadata": {},
   "source": [
    "# Fit on Augmented Dataset\n",
    "Rotations do not seem to increase accuracy."
   ]
  },
  {
   "cell_type": "code",
   "execution_count": 6,
   "metadata": {},
   "outputs": [
    {
     "data": {
      "text/plain": [
       "RandomForestClassifier(bootstrap=False, max_depth=91, max_features='sqrt',\n",
       "                       min_samples_leaf=3, n_estimators=1672, n_jobs=100)"
      ]
     },
     "execution_count": 6,
     "metadata": {},
     "output_type": "execute_result"
    }
   ],
   "source": [
    "aug_data = AugmentData(X_train, y_train, classes)\n",
    "aug_data.add_shifted_images([1, 2, 3])\n",
    "aug_data.add_flipped_images()\n",
    "X_train_aug, y_train_aug = aug_data.return_data()\n",
    "\n",
    "fitted_rf = RandomForestClassifier(**clf.best_params_, n_jobs=100)\n",
    "fitted_rf.fit(X_train_aug, y_train_aug)"
   ]
  },
  {
   "cell_type": "code",
   "execution_count": 7,
   "metadata": {},
   "outputs": [
    {
     "data": {
      "text/plain": [
       "0.5916666666666667"
      ]
     },
     "execution_count": 7,
     "metadata": {},
     "output_type": "execute_result"
    }
   ],
   "source": [
    "from sklearn.metrics import accuracy_score\n",
    "y_pred = fitted_rf.predict(X_test)\n",
    "accuracy_score(y_test, y_pred)"
   ]
  },
  {
   "cell_type": "markdown",
   "metadata": {},
   "source": [
    "# Final Estimation"
   ]
  },
  {
   "cell_type": "code",
   "execution_count": 8,
   "metadata": {},
   "outputs": [
    {
     "data": {
      "text/plain": [
       "RandomForestClassifier(bootstrap=False, max_depth=91, max_features='sqrt',\n",
       "                       min_samples_leaf=3, n_estimators=1672, n_jobs=100)"
      ]
     },
     "execution_count": 8,
     "metadata": {},
     "output_type": "execute_result"
    }
   ],
   "source": [
    "from sklearn.model_selection import train_test_split\n",
    "\n",
    "# load data\n",
    "train = np.load('data/train.npz')\n",
    "X, y = train['arr_0'], train['arr_1']\n",
    "classes = ['ant', 'spider', 'flower', 'dolphin', 'lobster', 'bulldozer']\n",
    "\n",
    "aug_data = AugmentData(X_train, y_train, classes)\n",
    "aug_data.add_shifted_images([1, 2, 3])\n",
    "aug_data.add_flipped_images()\n",
    "X_aug, y_aug = aug_data.return_data()\n",
    "\n",
    "fitted_rf = RandomForestClassifier(**clf.best_params_, n_jobs=100)\n",
    "fitted_rf.fit(X_aug, y_aug)"
   ]
  },
  {
   "cell_type": "markdown",
   "metadata": {},
   "source": [
    "# Submission"
   ]
  },
  {
   "cell_type": "code",
   "execution_count": 46,
   "metadata": {},
   "outputs": [
    {
     "data": {
      "text/html": [
       "<div>\n",
       "<style scoped>\n",
       "    .dataframe tbody tr th:only-of-type {\n",
       "        vertical-align: middle;\n",
       "    }\n",
       "\n",
       "    .dataframe tbody tr th {\n",
       "        vertical-align: top;\n",
       "    }\n",
       "\n",
       "    .dataframe thead th {\n",
       "        text-align: right;\n",
       "    }\n",
       "</style>\n",
       "<table border=\"1\" class=\"dataframe\">\n",
       "  <thead>\n",
       "    <tr style=\"text-align: right;\">\n",
       "      <th></th>\n",
       "      <th>Id</th>\n",
       "      <th>Category</th>\n",
       "    </tr>\n",
       "  </thead>\n",
       "  <tbody>\n",
       "    <tr>\n",
       "      <th>0</th>\n",
       "      <td>0</td>\n",
       "      <td>2</td>\n",
       "    </tr>\n",
       "    <tr>\n",
       "      <th>1</th>\n",
       "      <td>1</td>\n",
       "      <td>2</td>\n",
       "    </tr>\n",
       "    <tr>\n",
       "      <th>2</th>\n",
       "      <td>2</td>\n",
       "      <td>1</td>\n",
       "    </tr>\n",
       "    <tr>\n",
       "      <th>3</th>\n",
       "      <td>3</td>\n",
       "      <td>5</td>\n",
       "    </tr>\n",
       "    <tr>\n",
       "      <th>4</th>\n",
       "      <td>4</td>\n",
       "      <td>2</td>\n",
       "    </tr>\n",
       "  </tbody>\n",
       "</table>\n",
       "</div>"
      ],
      "text/plain": [
       "   Id  Category\n",
       "0   0         2\n",
       "1   1         2\n",
       "2   2         1\n",
       "3   3         5\n",
       "4   4         2"
      ]
     },
     "execution_count": 46,
     "metadata": {},
     "output_type": "execute_result"
    }
   ],
   "source": [
    "# load data\n",
    "test = np.load('data/test.npz')\n",
    "X_test = test['arr_0']\n",
    "y_pred_test = fitted_rf.predict(X_test)\n",
    "submission = pd.DataFrame({'Id': range(len(y_pred_test)), 'Category': y_pred_test})\n",
    "submission.head()"
   ]
  },
  {
   "cell_type": "code",
   "execution_count": 47,
   "metadata": {},
   "outputs": [],
   "source": [
    "submission.to_csv('submissions/rf1.csv', index=False)"
   ]
  }
 ],
 "metadata": {
  "kernelspec": {
   "display_name": "kaggle_env",
   "language": "python",
   "name": "kaggle_env"
  },
  "language_info": {
   "codemirror_mode": {
    "name": "ipython",
    "version": 3
   },
   "file_extension": ".py",
   "mimetype": "text/x-python",
   "name": "python",
   "nbconvert_exporter": "python",
   "pygments_lexer": "ipython3",
   "version": "3.8.5"
  }
 },
 "nbformat": 4,
 "nbformat_minor": 4
}
